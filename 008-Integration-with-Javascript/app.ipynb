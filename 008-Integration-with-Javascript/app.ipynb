{
  "cells": [
    {
      "cell_type": "markdown",
      "metadata": {},
      "source": [
        "# Include JS Code in TS Project\n",
        "\n",
        "If we want to allow JavaScript code in a TypeScript project, we should set `allowJs` to `true` in the `tsconfig.json` file."
      ]
    },
    {
      "cell_type": "markdown",
      "metadata": {},
      "source": [
        "# Type-Checking in JS Code\n",
        "\n",
        "To enable basic type checking for JavaScript code in a TypeScript project, we should set the `checkJs` option to `true` in `tsconfig.json`.\n",
        "\n",
        "However, if we don’t want TypeScript to check types in certain JavaScript files, we can add the `@ts-nocheck` comment at the top of those files."
      ]
    },
    {
      "cell_type": "markdown",
      "metadata": {},
      "source": [
        "# Describe Types using JSDoc\n",
        "\n",
        "One way to provide type information to JavaScript code is by using `JSDoc`, which is a special type of comment. TypeScript can read these comments and use them for type checking. \n",
        "\n",
        "Refer to the *tax1.js* file for an example."
      ]
    },
    {
      "cell_type": "markdown",
      "metadata": {},
      "source": [
        "# Creating Declarting Files\n",
        "\n",
        "Another way to provide type information from JavaScript to TypeScript is by using `type declaration files`. \n",
        "\n",
        "The name of the declaration file should **match the corresponding JavaScript file**, and its extension should be **.d.ts**.\n",
        "The `name of the declaration file` should **match the corresponding JavaScript file**, and its e`xtension should be` **.d.ts**.\n",
        "\n",
        "In this declaration file, we define all the types and features of the target module. Refer to *tax.d.ts* for an example."
      ]
    },
    {
      "cell_type": "markdown",
      "metadata": {},
      "source": [
        "# Using Definitely Typed Declaration Files\n",
        "\n",
        "Sometimes, when using third-party libraries in TypeScript, we get compiler errors. This usually happens because those libraries are written in plain JavaScript, and TypeScript can't find their type definitions.\n",
        "\n",
        "To solve this, we can use a popular GitHub project called **DefinitelyTyped**. It provides type declaration files for most popular JavaScript libraries\n",
        "\n",
        "We can install the type definitions using\n",
        "\n",
        "```bash\n",
        "npm i save--dev @types/PACKAGE-NAME\n",
        "```\n",
        "\n",
        "Nowadays, since TypeScript is becoming more popular, many JavaScript libraries come with built-in type declaration files."
      ]
    }
  ],
  "metadata": {
    "language_info": {
      "name": "python"
    }
  },
  "nbformat": 4,
  "nbformat_minor": 2
}
