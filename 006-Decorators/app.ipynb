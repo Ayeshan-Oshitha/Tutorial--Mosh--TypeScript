{
 "cells": [
  {
   "cell_type": "markdown",
   "metadata": {},
   "source": [
    "# What are Decorators\n",
    "\n",
    "Decorators are annotations that we apply to classes, methods, properties, or parameters to modify how they behave. They’re widely used in frameworks like Angular and Vue.\n",
    "\n",
    "TypeScript itself doesn’t ship with built‑in decorators, so we create our own. At runtime, a decorator is simply a function that the JavaScript engine invokes.\n",
    "\n",
    "Because decorators are still an experimental feature, you must enable them in the TypeScript compiler before using them—set the `experimentalDecorators` option to `true` in your `tsconfig.json`."
   ]
  },
  {
   "cell_type": "markdown",
   "metadata": {},
   "source": [
    "# Class Decorators\n",
    "\n",
    "Class decorators receive only one parameter—the class constructor function"
   ]
  },
  {
   "cell_type": "code",
   "execution_count": null,
   "metadata": {},
   "outputs": [
    {
     "name": "stdout",
     "output_type": "stream",
     "text": [
      "Component decorator called\n"
     ]
    }
   ],
   "source": [
    "function Component(constructor:Function){   // decorator receives the class constructor (not an instance)\n",
    "    console.log(\"Component decorator called\");\n",
    "    constructor.prototype.uniqueId = Date.now();\n",
    "    constructor.prototype.insertInDom = () => {\n",
    "        console.log(\"Inserting component into the DOM\");\n",
    "    }\n",
    "}\n",
    "\n",
    "@Component\n",
    "class ProfileComponent{\n",
    "}"
   ]
  },
  {
   "cell_type": "markdown",
   "metadata": {},
   "source": [
    "**No matter how many instances** of the class you create (0, 1, or 10), the **class decorator** gets called **only once**, when the class is **defined**, not when it's instantiated.\n",
    "\n",
    "Note(Extra): We can achieve similar behavior using inheritance—for example, by creating a base class like `Component` and having `ProfileComponent` extend it. So Decorators are another tool in our toolBox."
   ]
  },
  {
   "cell_type": "markdown",
   "metadata": {},
   "source": [
    "# Parameterized Decorators"
   ]
  },
  {
   "cell_type": "code",
   "execution_count": 5,
   "metadata": {},
   "outputs": [
    {
     "name": "stdout",
     "output_type": "stream",
     "text": [
      "Component decorator called\n"
     ]
    },
    {
     "data": {
      "text/plain": [
       "\u001b[36m[Function (anonymous)]\u001b[39m"
      ]
     },
     "execution_count": 5,
     "metadata": {},
     "output_type": "execute_result"
    }
   ],
   "source": [
    "// Define a type for the options that can be passed to the decorator\n",
    "type ComponentOptions = {\n",
    "    selector: string;\n",
    "}\n",
    "\n",
    "// This is a decorator factory – it takes options and returns the actual decorator function\n",
    "function Component(options : ComponentOptions) {\n",
    "    // This is the actual decorator function that receives the class constructor\n",
    "    return (constructor: Function) => {\n",
    "        console.log(\"Component decorator called\");\n",
    "        constructor.prototype.options = options;\n",
    "        constructor.prototype.uniqueId = Date.now();\n",
    "        constructor.prototype.insertInDom = () => {\n",
    "            console.log(\"Inserting component into the DOM\");\n",
    "        }\n",
    "    }\n",
    "}\n",
    "\n",
    "// Apply the decorator to the class with custom options\n",
    "@Component({selector: '#app-profile'})\n",
    "class ProfileComponent {\n",
    "}"
   ]
  },
  {
   "cell_type": "markdown",
   "metadata": {},
   "source": [
    "# Decorator Compisition\n",
    "\n",
    "We can apply multiple decorators to a class or its members"
   ]
  },
  {
   "cell_type": "code",
   "execution_count": 7,
   "metadata": {},
   "outputs": [
    {
     "name": "stdout",
     "output_type": "stream",
     "text": [
      "Pipe decorator called\n",
      "Component decorator called\n"
     ]
    },
    {
     "data": {
      "text/plain": [
       "\u001b[36m[Function (anonymous)]\u001b[39m"
      ]
     },
     "execution_count": 7,
     "metadata": {},
     "output_type": "execute_result"
    }
   ],
   "source": [
    "type ComponentOptions = {\n",
    "    selector: string;\n",
    "}\n",
    "\n",
    "function Component(options : ComponentOptions) {\n",
    "    return (constructor: Function) => {\n",
    "        console.log(\"Component decorator called\");\n",
    "        constructor.prototype.options = options;\n",
    "        constructor.prototype.uniqueId = Date.now();\n",
    "        constructor.prototype.insertInDom = () => {\n",
    "            console.log(\"Inserting component into the DOM\");\n",
    "        }\n",
    "    }\n",
    "}\n",
    "\n",
    "function Pipe(constructor : Function){\n",
    "    console.log(\"Pipe decorator called\");\n",
    "    constructor.prototype.pipe = true;\n",
    "}\n",
    "\n",
    "\n",
    "@Component({selector: '#app-profile'})\n",
    "@Pipe\n",
    "class ProfileComponent {\n",
    "}"
   ]
  },
  {
   "cell_type": "markdown",
   "metadata": {},
   "source": [
    "In the example above, decorators are called in reverse order. This idea comes from math, like in F(g(x)) — where g(x) is called first, and then its result is passed to F.\n",
    "\n",
    "Similarly, here the Pipe decorator is called first, and then the result is passed to the Component decorator."
   ]
  },
  {
   "cell_type": "markdown",
   "metadata": {},
   "source": [
    "# Method Decorators\n",
    "\n",
    "Method decorators receive three parameters: the target object, the name of the method, and the property descriptor."
   ]
  },
  {
   "cell_type": "code",
   "execution_count": null,
   "metadata": {},
   "outputs": [],
   "source": [
    "function Log(target : any, methodName: string, descriptor : PropertyDescriptor) {\n",
    "    const original = descriptor.value as Function;\n",
    "    descriptor.value = function() {\n",
    "        console.log('Before')\n",
    "        original.call(this, 'Blue Sky');\n",
    "        console.log('After')\n",
    "    }\n",
    "}\n",
    "\n",
    "class Person {\n",
    "    @Log\n",
    "    say(message: string) {\n",
    "        console.log('Person says:'+ message);\n",
    "    }\n",
    "}\n",
    "\n",
    "const person = new Person();\n",
    "person.say('Hello World'); "
   ]
  },
  {
   "cell_type": "markdown",
   "metadata": {},
   "source": [
    "In the example above, the output will be:\n",
    "\n",
    "- Before\n",
    "- Person says: Blue Sky\n",
    "- After\n",
    "\n",
    "The value we pass when calling `person.say('Hello World')` is **ignored** because it is replaced by the hardcoded value `'Blue Sky'` inside the decorator.\n",
    "\n",
    "This happens because in the decorator, we replace the original `say` method with a new implementation that always calls the original method with `'Blue Sky'` as the argument, instead of using the argument passed (`'Hello World'`).\n",
    "\n",
    "So, the original parameter `message` is not used in the new implementation inside the decorator.\n",
    "\n",
    "\n",
    "If we want to use the actual argument passed to the method (like `'Hello World'`), we can update the decorator like this:"
   ]
  },
  {
   "cell_type": "code",
   "execution_count": null,
   "metadata": {},
   "outputs": [],
   "source": [
    "function Log(target : any, methodName: string, descriptor : PropertyDescriptor) {\n",
    "    const original = descriptor.value as Function;\n",
    "    descriptor.value = function(message: string) {\n",
    "        console.log('Before')\n",
    "        original.call(this, message);\n",
    "        console.log('After')\n",
    "    }\n",
    "}\n",
    "\n",
    "class Person {\n",
    "    @Log\n",
    "    say(message: string) {\n",
    "        console.log('Person says:'+ message);\n",
    "    }\n",
    "}\n",
    "\n",
    "const person = new Person();\n",
    "person.say('Hello World'); "
   ]
  },
  {
   "cell_type": "markdown",
   "metadata": {},
   "source": [
    "Now , the output will be:\n",
    "\n",
    "- Before\n",
    "- Person says: Hello World\n",
    "- After\n",
    "\n",
    "But in the previous version, the decorator only works well when the method accepts one specific type of parameter. If we want the decorator to be more flexible and work with **any method and any number of parameters**, we can write it like this:"
   ]
  },
  {
   "cell_type": "code",
   "execution_count": null,
   "metadata": {},
   "outputs": [],
   "source": [
    "function Log(target : any, methodName: string, descriptor : PropertyDescriptor) {\n",
    "    const original = descriptor.value as Function;\n",
    "    descriptor.value = function(...args: any) {\n",
    "        console.log('Before')\n",
    "        original.call(this, ...args);\n",
    "        console.log('After')\n",
    "    }\n",
    "}\n",
    "\n",
    "class Person {\n",
    "    @Log\n",
    "    say(message: string) {\n",
    "        console.log('Person says:'+ message);\n",
    "    }\n",
    "\n",
    "    @Log\n",
    "    sayWithGreeting(greeting: string, message: string) {\n",
    "        console.log(`${greeting}, ${message}`);\n",
    "    }\n",
    "}\n",
    "\n",
    "const person = new Person();\n",
    "person.say('Hello World'); \n",
    "person.sayWithGreeting('Hi', 'everyone!');"
   ]
  },
  {
   "cell_type": "markdown",
   "metadata": {},
   "source": [
    "Now , the output will be:\n",
    "\n",
    "- Before\n",
    "- Person says: Hello World\n",
    "- After\n",
    "- Before\n",
    "- Hi, everyone!\n",
    "- After"
   ]
  },
  {
   "cell_type": "markdown",
   "metadata": {},
   "source": [
    "# Access Decorators\n",
    "\n",
    "We can create decorators that can be applied to getters and setters as well."
   ]
  },
  {
   "cell_type": "code",
   "execution_count": null,
   "metadata": {},
   "outputs": [],
   "source": [
    "function Capitalize(target:any, methodName: string, descriptor: PropertyDescriptor) {\n",
    "   const original = descriptor.get;\n",
    "   descriptor.get = function() {\n",
    "         const result = original?.call(this);\n",
    "        if (typeof result === 'string') {\n",
    "            return result.toUpperCase();\n",
    "        }\n",
    "        return result;\n",
    "    }\n",
    "}\n",
    "\n",
    "\n",
    "class Person {\n",
    "    constructor(public firstName: string, public lastName: string) {}\n",
    "\n",
    "    @Capitalize\n",
    "    get fullName() {\n",
    "        return `${this.firstName} ${this.lastName}`;\n",
    "    }\n",
    "}\n",
    "\n",
    "\n",
    "let person1 = new Person('John', 'Doe');\n",
    "console.log(person1.fullName); // Outputs: JOHN DOE"
   ]
  },
  {
   "cell_type": "markdown",
   "metadata": {},
   "source": [
    "# Property Decorator"
   ]
  },
  {
   "cell_type": "code",
   "execution_count": null,
   "metadata": {},
   "outputs": [],
   "source": [
    "// A property decorator that enforces a minimum string length\n",
    "function MinLength(length: number) {\n",
    "     // This function returns a decorator function\n",
    "    return (target:any, propertyName: string) => {\n",
    "        let value: string ;\n",
    "\n",
    "         // Define a custom property descriptor with getter and setter\n",
    "        const descriptor : PropertyDescriptor = {\n",
    "            get() {\n",
    "                // Return the stored value\n",
    "                return value;\n",
    "            },\n",
    "            set(newValue : string) {\n",
    "                // Check if the new value meets the minimum length\n",
    "                if(newValue.length < length){\n",
    "                    throw new Error(`${propertyName} should be at least ${length} characters long`);\n",
    "                }\n",
    "                value = newValue;\n",
    "            }\n",
    "        }\n",
    "        // Override the default property with the custom getter and setter\n",
    "        Object.defineProperty(target, propertyName, descriptor);\n",
    "    }\n",
    "}\n",
    "\n",
    "class User {\n",
    "    // This decorator will enforce that the password must be at least 4 characters long\n",
    "    @MinLength(4)\n",
    "    password: string;\n",
    "\n",
    "    constructor(password: string) {\n",
    "        this.password = password; // This will trigger the custom setter\n",
    "    }\n",
    "}\n",
    "\n",
    "let user = new User('1234'); \n",
    "console.log(user.password); // Outputs: 1234"
   ]
  },
  {
   "cell_type": "markdown",
   "metadata": {},
   "source": [
    "# Parameter Decorator\n",
    "\n",
    "Parameter decorators are not something we use often in everyday code. However, they can be very useful if you're building a framework or library for other developers to use."
   ]
  },
  {
   "cell_type": "code",
   "execution_count": null,
   "metadata": {},
   "outputs": [],
   "source": [
    "// Define a type to store info about watched parameters\n",
    "type WatchedParameter = {\n",
    "    methodName: string;\n",
    "    parameterIndex: number;\n",
    "}\n",
    "\n",
    "// Global array to keep track of all watched parameters\n",
    "const watchedParameters: WatchedParameter[] = [];\n",
    "\n",
    "// Parameter decorator function\n",
    "function Watch(target: any, methodName: string, parameterIndex: number){\n",
    "    // Store metadata about the watched parameter\n",
    "    watchedParameters.push({\n",
    "        methodName,\n",
    "        parameterIndex\n",
    "    });\n",
    "}\n",
    "\n",
    "class Vehicle {\n",
    "    move(@Watch speed:number) {}\n",
    "}\n",
    "\n",
    "console.log(watchedParameters); // Outputs: [{ methodName: 'move', parameterIndex: 0 }]"
   ]
  }
 ],
 "metadata": {
  "kernelspec": {
   "display_name": "Deno",
   "language": "typescript",
   "name": "deno"
  },
  "language_info": {
   "codemirror_mode": "typescript",
   "file_extension": ".ts",
   "mimetype": "text/x.typescript",
   "name": "typescript",
   "nbconvert_exporter": "script",
   "pygments_lexer": "typescript",
   "version": "5.8.3"
  }
 },
 "nbformat": 4,
 "nbformat_minor": 2
}
