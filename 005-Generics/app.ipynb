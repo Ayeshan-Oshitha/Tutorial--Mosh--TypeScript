{
 "cells": [
  {
   "cell_type": "markdown",
   "metadata": {},
   "source": [
    "# Understanding the Problem"
   ]
  },
  {
   "cell_type": "code",
   "execution_count": null,
   "metadata": {},
   "outputs": [],
   "source": [
    "class KeyValuePair {\n",
    "    constructor (public key: string, public value: string) {}\n",
    "}"
   ]
  },
  {
   "cell_type": "markdown",
   "metadata": {},
   "source": [
    "In the example above, We can only create key-value pairs where both the key and value are of type `string`. If we need to support other types, one option is to use the `any` type. However, using `any` removes type safety, which can lead to runtime errors and makes the code less robust. Another option is to create separate versions of the class for each data type, like `KeyValuePairNumber`, `KeyValuePairBoolean`, etc. But this leads to redundant code and is not scalable.\n",
    "\n",
    "A better solution is to use **generics**, which allow us to define the class in a type-safe and reusable way."
   ]
  },
  {
   "cell_type": "markdown",
   "metadata": {},
   "source": [
    "# Generic Classes"
   ]
  },
  {
   "cell_type": "code",
   "execution_count": null,
   "metadata": {},
   "outputs": [],
   "source": [
    "class KeyValuePair<T> {\n",
    "    constructor (public key: T, public value: string) {}\n",
    "}\n",
    "\n",
    "let pair = new KeyValuePair<string>('name', 'John Doe');"
   ]
  },
  {
   "cell_type": "code",
   "execution_count": null,
   "metadata": {},
   "outputs": [],
   "source": [
    "class KeyValuePair<T, V>{\n",
    "    constructor (public key: T, public value: V) {}\n",
    "}\n",
    "\n",
    "let pair2 = new KeyValuePair<string, number>('age', 30);"
   ]
  },
  {
   "cell_type": "markdown",
   "metadata": {},
   "source": [
    "If we **don't explicitly pass the types**, TypeScript is smart enough to **automatically infer the types** from the values we provide:"
   ]
  },
  {
   "cell_type": "code",
   "execution_count": null,
   "metadata": {},
   "outputs": [],
   "source": [
    "class KeyValuePair<T, V>{\n",
    "    constructor (public key: T, public value: V) {}\n",
    "}\n",
    "\n",
    "let pair3 = new KeyValuePair('isPublished', false);"
   ]
  },
  {
   "cell_type": "markdown",
   "metadata": {},
   "source": [
    "# Generic Functions"
   ]
  },
  {
   "cell_type": "code",
   "execution_count": null,
   "metadata": {},
   "outputs": [],
   "source": [
    "// A generic function that takes a value of any type T and returns it wrapped inside an array\n",
    "function wrapInArray<T>(value: T){\n",
    "    return [value];\n",
    "}\n",
    "\n",
    "// let number = wrapInArray<string>('42');\n",
    "let number = wrapInArray(42);"
   ]
  },
  {
   "cell_type": "markdown",
   "metadata": {},
   "source": [
    "This function can also be defined inside a class"
   ]
  },
  {
   "cell_type": "code",
   "execution_count": null,
   "metadata": {},
   "outputs": [],
   "source": [
    "class ArrayUtils{\n",
    "    wrapInArray<T>(value: T){\n",
    "        return [value];\n",
    "    }\n",
    "}\n",
    "\n",
    "let utils = new ArrayUtils();\n",
    "let number2 = utils.wrapInArray(42);"
   ]
  },
  {
   "cell_type": "markdown",
   "metadata": {},
   "source": [
    "# Generic Interfaces"
   ]
  },
  {
   "cell_type": "code",
   "execution_count": null,
   "metadata": {},
   "outputs": [],
   "source": [
    "// ex -: returning data from an API\n",
    "// http://mywebsite.com/users\n",
    "// http://mywebsite.com/products\n",
    "\n",
    "interface Result<T> {\n",
    "    data: T | null;\n",
    "    error: string | null;\n",
    "}\n",
    "\n",
    "function fetch<T>(url : string) : Result<T>{\n",
    "    return {data:null, error: null};\n",
    "}\n",
    "\n",
    "interface User {\n",
    "    username: string;\n",
    "}\n",
    "\n",
    "interface Product {\n",
    "    title: string;\n",
    "}\n",
    "\n",
    "\n",
    "let result1 = fetch<User>('http://mywebsite.com/users');\n",
    "result1.data?.username; // data will be null or User object\n",
    "\n",
    "let result2 = fetch<Product>('http://mywebsite.com/products');\n",
    "result2.data?.title; // data will be null or Product object"
   ]
  },
  {
   "cell_type": "markdown",
   "metadata": {},
   "source": [
    "Explanation -->\n",
    "\n",
    "1. fetch<User>('http://mywebsite.com/users') calls\n",
    "\n",
    "2. The return type of data should be `Result<User>`\n",
    "\n",
    "3. `Result<User>` have two elemets\n",
    "        - data : <User> | null\n",
    "        - error : string | null\n",
    "\n",
    "4. Since `data` is either User object or null, We can access properties of `User` objects"
   ]
  },
  {
   "cell_type": "markdown",
   "metadata": {},
   "source": [
    "# Generic Constraints"
   ]
  },
  {
   "cell_type": "code",
   "execution_count": null,
   "metadata": {},
   "outputs": [],
   "source": [
    "// Constraint by type\n",
    "\n",
    "function echo<T extends string | number>(value: T): T {  \n",
    "    // The type T must be either string or number — no other types are allowed\n",
    "    return value;\n",
    "}\n",
    "\n",
    "echo(1);"
   ]
  },
  {
   "cell_type": "code",
   "execution_count": null,
   "metadata": {},
   "outputs": [],
   "source": [
    "// Constraint by the shape of an object\n",
    "\n",
    "function echo<T extends { name:string } >(value: T): T {\n",
    "    // T must be an object type that has at least a name property of type string.\n",
    "    return value;\n",
    "}\n",
    "\n",
    "echo({name: 'John Doe'});"
   ]
  },
  {
   "cell_type": "code",
   "execution_count": null,
   "metadata": {},
   "outputs": [],
   "source": [
    "// Constraint by an interface\n",
    "\n",
    "interface Person {\n",
    "    name : string;\n",
    "}\n",
    "\n",
    "function echo<T extends Person>(value: T): T {\n",
    "    // T must be (or extend from) the Person type\n",
    "    return value;\n",
    "}"
   ]
  },
  {
   "cell_type": "code",
   "execution_count": null,
   "metadata": {},
   "outputs": [],
   "source": [
    "// Constraint by a class\n",
    "\n",
    "class Person {\n",
    "    constructor(public name: string) {}\n",
    "}\n",
    "\n",
    "class Customer extends Person {\n",
    "}\n",
    "\n",
    "function echo<T extends Person>(value: T): T {\n",
    "    // T must be the Person class or any class that inherits from Person\n",
    "    return value;\n",
    "}\n",
    "\n",
    "echo(new Person('John Doe'));\n",
    "echo(new Customer('Jane Doe')); "
   ]
  },
  {
   "cell_type": "markdown",
   "metadata": {},
   "source": [
    "# Extending Generic Classes\n",
    "\n",
    "When extending a generic class, We have 3 options."
   ]
  },
  {
   "cell_type": "code",
   "execution_count": null,
   "metadata": {},
   "outputs": [],
   "source": [
    "// Example -: In an e-commerce application, we might have categories like Products, Orders, and Shopping Carts.\n",
    "\n",
    "interface Product {\n",
    "    name : string;\n",
    "    price: number;\n",
    "}\n",
    "\n",
    "class Store<T>{\n",
    "    protected _objects : T[] = [];\n",
    "\n",
    "    add(object: T) : void {\n",
    "        this._objects.push(object);\n",
    "    }\n",
    "}\n",
    "\n",
    "\n",
    "\n",
    "// Option 1 - Pass on the generic type parameter\n",
    "class CompressibleStore<T> extends Store<T>{\n",
    "    compress() {}\n",
    "}\n",
    "\n",
    "let store = new CompressibleStore<Product>();\n",
    "store.add({name: 'Laptop', price: 1000});\n",
    "store.compress();\n",
    "\n",
    "\n",
    "\n",
    "// Option 2 - Restrict the generic type parameter\n",
    "class SearchableStore<T extends {name:string}> extends Store<T>{  // T must be a type that includes at least a name: string property\n",
    "    find(name : string) : T | undefined {\n",
    "        return this._objects.find(obj => obj.name === name );\n",
    "    }\n",
    "}\n",
    "\n",
    "let searchableStore = new SearchableStore<Product>();\n",
    "searchableStore.add({ name: 'Laptop', price: 1000 });\n",
    "\n",
    "\n",
    "\n",
    "// Option 3 - Fix the generic type parameter\n",
    "class ProductStore extends Store<Product> {\n",
    "    filterByCategory(category : string) : Product[] {\n",
    "        return [];\n",
    "    }\n",
    "}\n",
    "\n",
    "let productStore = new ProductStore();\n",
    "productStore.add({ name: 'Laptop', price: 1000 });\n",
    "productStore.filterByCategory('Electronics');"
   ]
  },
  {
   "cell_type": "markdown",
   "metadata": {},
   "source": [
    "# Keyof Operator\n",
    "\n",
    "The `keyof` operator returns a union of the keys (property names) of a given type or interface."
   ]
  },
  {
   "cell_type": "code",
   "execution_count": null,
   "metadata": {},
   "outputs": [],
   "source": [
    "interface Product {\n",
    "    name : string;\n",
    "    price: number;\n",
    "}\n",
    "\n",
    "class NewStore<T>{\n",
    "    protected _objects : T[] = [];\n",
    "\n",
    "    add(object: T) : void {\n",
    "        this._objects.push(object);\n",
    "    }\n",
    "\n",
    "    // T is Product\n",
    "    // keyof T => 'name' | 'price'\n",
    "    find(property: keyof T, value: unknown): T | undefined {\n",
    "        return this._objects.find(obj => obj[property] === value);\n",
    "    }\n",
    "}\n",
    "\n",
    "\n",
    "let mystore = new NewStore<Product>();\n",
    "mystore.add({name: 'Laptop', price: 1000});\n",
    "\n",
    "mystore.find('name', 'Laptop'); // Returns the product with name 'Laptop'\n",
    "mystore.find('price', 1000); // Returns the product with price 1000\n",
    "mystore.find('unKnownProperty', 100); // This will **cause a TypeScript error**!"
   ]
  },
  {
   "cell_type": "markdown",
   "metadata": {},
   "source": [
    "If you use a plain `string` type instead, any string can be passed—including invalid property names—which can cause errors or crashes when the program runs.\n",
    "\n",
    "Using `keyof T` ensures that only valid property names of the type `T` can be passed to the `find` method, so if you try to use a wrong property name like `'unKnownExistingParameter'`, TypeScript will show an error and prevent the program from crashing at runtime. "
   ]
  },
  {
   "cell_type": "markdown",
   "metadata": {},
   "source": [
    "# Type Mapping\n",
    "\n",
    "Using Type Mapping, we **can create new types by transforming each property of an existing type**.\n",
    "\n",
    "For example, with mapped types, you can:\n",
    "\n",
    "- Make all properties readonly\n",
    "- Make all properties optional\n",
    "- Change property types\n",
    "- Create filters or pick certain keys dynamically"
   ]
  },
  {
   "cell_type": "markdown",
   "metadata": {},
   "source": [
    "##### Example 1 -> Make all Properties readOnly"
   ]
  },
  {
   "cell_type": "code",
   "execution_count": null,
   "metadata": {},
   "outputs": [],
   "source": [
    "interface Product {\n",
    "    name : string;\n",
    "    price: number;\n",
    "}\n",
    "\n",
    "type ReadOnlyProduct = {\n",
    "    // Index signature\n",
    "    // keyof\n",
    "    readonly [K in keyof Product]: Product[K];\n",
    "}\n",
    "\n",
    "let product1 : ReadOnlyProduct = {\n",
    "    name : 'a',\n",
    "    price: 100\n",
    "};\n",
    "\n",
    "product1.name = 'b'; // This will cause a TypeScript error because name is read-only"
   ]
  },
  {
   "cell_type": "markdown",
   "metadata": {},
   "source": [
    "##### Example 2 -> Make all Properties readOnly ( in a generic class )"
   ]
  },
  {
   "cell_type": "code",
   "execution_count": null,
   "metadata": {},
   "outputs": [],
   "source": [
    "interface Product {\n",
    "    name : string;\n",
    "    price: number;\n",
    "}\n",
    "\n",
    "type ReadOnly<T> = {\n",
    "    readonly [K in keyof T]: T[K];\n",
    "}\n",
    "\n",
    "let product2 : ReadOnly<Product> = {\n",
    "    name : 'a',\n",
    "    price: 100\n",
    "};"
   ]
  },
  {
   "cell_type": "markdown",
   "metadata": {},
   "source": [
    "##### Example 3 -> Make all Properties Optional"
   ]
  },
  {
   "cell_type": "code",
   "execution_count": null,
   "metadata": {},
   "outputs": [],
   "source": [
    "interface Product {\n",
    "    name : string;\n",
    "    price: number;\n",
    "}\n",
    "\n",
    "type Optional<T> = {\n",
    " [K in keyof T]?: T[K];\n",
    "}"
   ]
  },
  {
   "cell_type": "markdown",
   "metadata": {},
   "source": [
    "##### Example 4 -> Make all Properties Nullable"
   ]
  },
  {
   "cell_type": "code",
   "execution_count": null,
   "metadata": {},
   "outputs": [],
   "source": [
    "interface Product {\n",
    "    name : string;\n",
    "    price: number;\n",
    "}\n",
    "\n",
    "type Nullable<T> = {\n",
    " [K in keyof T]?: T[K] | null;\n",
    "}"
   ]
  },
  {
   "cell_type": "markdown",
   "metadata": {},
   "source": [
    "All these type mapping utilities are already built into TypeScript, so we can use them directly. We can also review and customize them as needed."
   ]
  }
 ],
 "metadata": {
  "kernelspec": {
   "display_name": "Deno",
   "language": "typescript",
   "name": "deno"
  },
  "language_info": {
   "codemirror_mode": "typescript",
   "file_extension": ".ts",
   "mimetype": "text/x.typescript",
   "name": "typescript",
   "nbconvert_exporter": "script",
   "pygments_lexer": "typescript",
   "version": "5.8.3"
  }
 },
 "nbformat": 4,
 "nbformat_minor": 2
}
