{
 "cells": [
  {
   "cell_type": "markdown",
   "metadata": {},
   "source": [
    "# Type Aliases\n",
    "\n",
    "Using type aliases, we can define a custom type, which helps improve readability and maintainability of the code."
   ]
  },
  {
   "cell_type": "code",
   "execution_count": null,
   "metadata": {},
   "outputs": [],
   "source": [
    "type Employee = {\n",
    "    id: number;\n",
    "    name : string;\n",
    "    retire : (date: Date) => void;\n",
    "}\n",
    "\n",
    "let employee : Employee = {\n",
    "    id: 1,\n",
    "    name: \"John Doe\",\n",
    "    retire: (date: Date) => {\n",
    "        console.log(date);\n",
    "    }\n",
    "};"
   ]
  },
  {
   "cell_type": "markdown",
   "metadata": {},
   "source": [
    "# Union Types ( | )\n",
    "\n",
    "With union types, we can allow a variable, function, or parameter to have multiple possible types."
   ]
  },
  {
   "cell_type": "code",
   "execution_count": null,
   "metadata": {},
   "outputs": [],
   "source": [
    "function KgToLbs(weight: number | string): number {\n",
    "    // Narrowing type\n",
    "    if (typeof weight === 'number') {\n",
    "        return weight * 2.2;\n",
    "    } else {\n",
    "        return parseFloat(weight) * 2.2;\n",
    "    }\n",
    "}\n",
    "\n",
    "KgToLbs(10); \n",
    "KgToLbs(\"10\"); "
   ]
  },
  {
   "cell_type": "markdown",
   "metadata": {},
   "source": [
    "# Intersection Types ( & )\n",
    "\n",
    "Using type intersections, we can combine two types, and an object must satisfy both types at the same time."
   ]
  },
  {
   "cell_type": "code",
   "execution_count": null,
   "metadata": {},
   "outputs": [],
   "source": [
    "type Draggable = {\n",
    "    drag: () => void;\n",
    "}\n",
    "\n",
    "type Resizable = {\n",
    "    resize: () => void;\n",
    "}\n",
    "\n",
    "type UIWidget = Draggable & Resizable;\n",
    "\n",
    "let textBox: UIWidget = {\n",
    "    drag: () => {console.log(\"Dragging...\");},\n",
    "    resize: () => {console.log(\"Resizing...\"); }\n",
    "};"
   ]
  },
  {
   "cell_type": "markdown",
   "metadata": {},
   "source": [
    "# Literal Types\n",
    "\n",
    "Sometimes, we want a variable to have an exact value without using type annotations. In such cases, we can use literal types to specify exact, specific values."
   ]
  },
  {
   "cell_type": "code",
   "execution_count": null,
   "metadata": {},
   "outputs": [],
   "source": [
    "type Quantity = 50 | 100;\n",
    "let quantity: Quantity = 100; // quantity can only be either 50 or 100 (no other values allowed)"
   ]
  },
  {
   "cell_type": "markdown",
   "metadata": {},
   "source": [
    "# Nullable Types"
   ]
  },
  {
   "cell_type": "code",
   "execution_count": null,
   "metadata": {},
   "outputs": [],
   "source": [
    "function greet( name : string){\n",
    "    console.log(name.toUpperCase());\n",
    "}\n",
    "\n",
    "greet(null)"
   ]
  },
  {
   "cell_type": "markdown",
   "metadata": {},
   "source": [
    "The above code is valid in JavaScript because JavaScript allows `null` to be passed as an argument. However, in **TypeScript**, this will cause an error if `strictNullChecks` is enabled ( which is recommended to be enabled ) in `tsconfig.json`. TypeScript strictly checks for `null` and `undefined` values when this option is turned on.\n",
    "\n",
    "To allow `null` values, you must explicitly include `null` in the type:"
   ]
  },
  {
   "cell_type": "code",
   "execution_count": null,
   "metadata": {},
   "outputs": [],
   "source": [
    "function greet(name: string | null) {\n",
    "    if (name) {\n",
    "        console.log(name.toUpperCase());\n",
    "    } else {\n",
    "        console.log(\"Hello, Guest!\");\n",
    "    }\n",
    "}\n",
    "\n",
    "greet(null)"
   ]
  },
  {
   "cell_type": "markdown",
   "metadata": {},
   "source": [
    "# Optional Chaining\n",
    "\n",
    "By using the optional property operator, we can avoid having to check for null or undefined every time."
   ]
  },
  {
   "cell_type": "code",
   "execution_count": null,
   "metadata": {},
   "outputs": [
    {
     "name": "stdout",
     "output_type": "stream",
     "text": [
      "undefined\n",
      "2025-06-19T04:23:36.155Z\n"
     ]
    }
   ],
   "source": [
    "type Customer = {\n",
    "    birthday: Date;\n",
    "}\n",
    "\n",
    "function getCustomer(id : number) : Customer | null | undefined {\n",
    "    return id === 0 ? null : { birthday: new Date() };\n",
    "}\n",
    "\n",
    "let customer1 = getCustomer(0);\n",
    "let customer2 = getCustomer(1);\n",
    "\n",
    "// Without Optional Property access Operator\n",
    "// if(customer != null && customer.birthday != undefined) {\n",
    "//     console.log(customer1.birthday);\n",
    "// }\n",
    "\n",
    "\n",
    "// With Optional Property access Operator\n",
    "console.log(customer1?.birthday);\n",
    "console.log(customer2?.birthday);"
   ]
  },
  {
   "cell_type": "markdown",
   "metadata": {},
   "source": [
    "Now let's make the birthday property optional too. In this case, we have to use the optional property access operator (?.) when accessing Full year of Birthday as well."
   ]
  },
  {
   "cell_type": "code",
   "execution_count": null,
   "metadata": {},
   "outputs": [],
   "source": [
    "type Customer = {\n",
    "    birthday?: Date;\n",
    "}\n",
    "\n",
    "function getCustomer(id : number) : Customer | null {\n",
    "    return id === 0 ? null : { birthday: new Date() };\n",
    "}\n",
    "\n",
    "let customer = getCustomer(0);\n",
    "\n",
    "console.log(customer?.birthday?.getFullYear()); // This will return undefined if customer is null or birthday is undefined"
   ]
  },
  {
   "cell_type": "markdown",
   "metadata": {},
   "source": [
    "We have the optional element access operator. For example, if we have an array of fruits, we can access an element only if it exists. To do that safely, we can use the `optional element access operator` (?.)."
   ]
  },
  {
   "cell_type": "code",
   "execution_count": null,
   "metadata": {},
   "outputs": [],
   "source": [
    "const fruits = [\"apple\", \"banana\", \"orange\"];\n",
    "\n",
    "console.log(fruits?.[1]); // Output: \"banana\"\n",
    "console.log(fruits?.[5]); // Output: undefined (no error, even though index 5 doesn't exist) \n",
    "\n",
    "// (The optional element access operator (?.[index]) lets you safely access an array element by returning undefined instead of causing an error when the array is null or undefined.)"
   ]
  },
  {
   "cell_type": "markdown",
   "metadata": {},
   "source": [
    "Sometimes, by mistake, a function can be null or undefined. In such cases, we can use the `optional call operator` `(?.())` to avoid causing an error when trying to call it."
   ]
  },
  {
   "cell_type": "code",
   "execution_count": null,
   "metadata": {},
   "outputs": [],
   "source": [
    " // let log : any = (message : string) => console.log(message); \n",
    "\n",
    " // Imagine this has written instead of above code line.\n",
    " let log : any = null\n",
    "\n",
    " log?.(\"Hello, World!\"); "
   ]
  },
  {
   "cell_type": "markdown",
   "metadata": {},
   "source": [
    "# The Nullish Coalscing Operator\n",
    "\n",
    "With the nullish coalescing operator, we can provide a default value when a variable is *null* or *undefined*."
   ]
  },
  {
   "cell_type": "code",
   "execution_count": null,
   "metadata": {},
   "outputs": [],
   "source": [
    "let speed : number | null = null;\n",
    "\n",
    "let ride = {\n",
    "    speed: speed ?? 30, // If speed is null, default to 30\n",
    "}"
   ]
  },
  {
   "cell_type": "markdown",
   "metadata": {},
   "source": [
    "In the example above, we could use `speed || 30` (the JavaScript way) to provide a default value.\n",
    "However, JavaScript treats several values as *falsy* —including `undefined, null, '' (empty string), false, and 0`.\n",
    "\n",
    "So, if the user’s speed is `0` (which can be a valid speed), using `speed || 30` will incorrectly treat `0` as falsy and use `30` instead.\n",
    "\n",
    "To avoid this problem, we use the **nullish coalescing operator** (`??`), which only treats *null* and *undefined* as missing values, allowing 0 and other falsy values to be used correctly."
   ]
  },
  {
   "cell_type": "markdown",
   "metadata": {},
   "source": [
    "# Type Assertions\n",
    "\n",
    "Using type assertion, we can tell TypeScript that we know more about the type of a value than it does. We use type assertion when we want to manually specify a value’s type."
   ]
  },
  {
   "cell_type": "code",
   "execution_count": null,
   "metadata": {},
   "outputs": [],
   "source": [
    "let phone = document.getElementById('phone') as HTMLInputElement ;\n",
    "\n",
    "console.log(phone.value)"
   ]
  },
  {
   "cell_type": "markdown",
   "metadata": {},
   "source": [
    "In this example, if we don’t use type assertion, TypeScript treats `getElementById` as returning a general `HTMLElement`, which doesn’t have a `.value` property.\n",
    "\n",
    "By using type assertion (as `HTMLInputElement`), we tell TypeScript that this element is specifically an input element, so we can safely access `.value` without an error.\n",
    "\n",
    "Instead of using the `as` keyword for type assertion, we can also use the alternative syntax with angle brackets (`<>`). (The angle bracket syntax works the same as `as`, but it **cannot be used** in `.tsx` **(React TypeScript) files** because it conflicts with JSX syntax. In such cases, prefer using `as`.)"
   ]
  },
  {
   "cell_type": "code",
   "execution_count": null,
   "metadata": {},
   "outputs": [],
   "source": [
    "let phone = <HTMLInputElement> document.getElementById('phone');\n",
    "\n",
    "console.log(phone.value);"
   ]
  },
  {
   "cell_type": "markdown",
   "metadata": {},
   "source": [
    "##### Extra - as keyword -> \n",
    "\n",
    "The `as` keyword in TypeScript is not the same `as` the as keyword in C#. In C#, `as` performs a type conversion and returns the object if the cast is valid, or `null` if it’s not.\n",
    "\n",
    "But in TypeScript, `as` is only a way to tell the compiler what type we believe the value is—it does **not** convert or return a new object.\n",
    "\n",
    "##### Extra - Type Alias vs Type Assertion ->\n",
    "\n",
    "| Feature           | Type Annotation                         | Type Assertion                          |\n",
    "|-------------------|------------------------------------------|------------------------------------------|\n",
    "| **Purpose**        | Define the type of a variable or function | Tell TypeScript what type a value is     |\n",
    "| **Syntax**         | `let x: string = \"hi\";`                  | `value as Type` or `<Type>value`         |\n",
    "| **When Used**      | At declaration                           | When using a value, not declaring   (Used when TypeScript can't infer the type correctly.)     |\n",
    "| **Type Checked?**  | ✅ Yes                                    | ✅ Yes (but overrides inference)         |\n",
    "| **Converts Type?** | ❌ No                                     | ❌ No                                     |\n",
    "\n",
    "\n"
   ]
  },
  {
   "cell_type": "markdown",
   "metadata": {},
   "source": [
    "# The UnKnown Type\n",
    "\n",
    "When we use the `unknown` type in TypeScript, it forces us to perform manual type checks before using the value. This is because `unknown` is a safer alternative to `any` — it means the type is not known yet, so TypeScript requires us to verify the type (for example, using `typeof` or checking properties) before we can safely access or manipulate the value.\n",
    "\n",
    "In contrast, the `any` type does not force us to do any type checking, which can lead to runtime errors because it disables type safety completely."
   ]
  },
  {
   "cell_type": "code",
   "execution_count": null,
   "metadata": {},
   "outputs": [],
   "source": [
    "function render(document : unknown){\n",
    "    // Narrowing \n",
    "    if (typeof document === 'string') {\n",
    "        console.log(document.toUpperCase());\n",
    "    } else if (document instanceof HTMLElement) {\n",
    "        console.log(document.innerHTML);\n",
    "    } else {\n",
    "        console.log(\"Unknown document type\");\n",
    "    }\n",
    "}"
   ]
  },
  {
   "cell_type": "markdown",
   "metadata": {},
   "source": [
    "We can narrow types in TypeScript using:\n",
    "\n",
    "- `typeof` for `primitive types` (like string, number, boolean, etc.)\n",
    "\n",
    "- `instanceof` for `reference types` (like classes and objects)\n",
    "\n",
    "These checks help TypeScript understand the exact type at runtime, so we can safely use the value."
   ]
  },
  {
   "cell_type": "markdown",
   "metadata": {},
   "source": [
    "# The Never Type\n",
    "\n",
    "In TypeScript, we can use the never type to represent values that never occur. It is typically used for:\n",
    "\n",
    "- Functions that **never return** (e.g., functions that always throw an error or have infinite loops).\n",
    "\n",
    "- Exhaustive type checking in switch statements, where all possible cases are handled, and the never type helps catch unexpected values.\n",
    "\n",
    "By using the never type, we can help detect unreachable code more easily.\n",
    "\n",
    "To make this effective, the `\"allowUnreachableCode\"` setting in `tsconfig.json` should be set to `false`.\n"
   ]
  },
  {
   "cell_type": "code",
   "execution_count": null,
   "metadata": {},
   "outputs": [],
   "source": [
    "function processEvent() : never {\n",
    "    while(true){\n",
    "        // Read a message from a queue\n",
    "    }\n",
    "}\n",
    "\n",
    "processEvent();\n",
    "console.log(\"Hello World!\"); // This line will never be reached because processEvent() never returns"
   ]
  },
  {
   "cell_type": "code",
   "execution_count": null,
   "metadata": {},
   "outputs": [],
   "source": [
    "function reject(message : string) : never {\n",
    "    throw new Error(message);\n",
    "}\n",
    "\n",
    "reject(\"This is an error message\"); \n",
    "console.log(\"Hello World\") // This line will never be reached because reject() throws an error"
   ]
  }
 ],
 "metadata": {
  "kernelspec": {
   "display_name": "Deno",
   "language": "typescript",
   "name": "deno"
  },
  "language_info": {
   "codemirror_mode": "typescript",
   "file_extension": ".ts",
   "mimetype": "text/x.typescript",
   "name": "typescript",
   "nbconvert_exporter": "script",
   "pygments_lexer": "typescript",
   "version": "5.8.3"
  }
 },
 "nbformat": 4,
 "nbformat_minor": 2
}
